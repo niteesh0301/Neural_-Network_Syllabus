{
  "nbformat": 4,
  "nbformat_minor": 0,
  "metadata": {
    "colab": {
      "provenance": []
    },
    "kernelspec": {
      "name": "python3",
      "display_name": "Python 3"
    },
    "language_info": {
      "name": "python"
    }
  },
  "cells": [
    {
      "cell_type": "code",
      "execution_count": 1,
      "metadata": {
        "colab": {
          "base_uri": "https://localhost:8080/"
        },
        "id": "foNBk8PbFRqu",
        "outputId": "1e946609-3113-4088-9300-1fe7161decd6"
      },
      "outputs": [
        {
          "output_type": "stream",
          "name": "stdout",
          "text": [
            "Average Salary: 76666.66666666667\n"
          ]
        }
      ],
      "source": [
        "class Employee:\n",
        "\n",
        "    employee_count = 0\n",
        "\n",
        "    def __init__(self, name, family, salary, department):\n",
        "        self.name = name\n",
        "        self.family = family\n",
        "        self.salary = salary\n",
        "        self.department = department\n",
        "        Employee.employee_count += 1\n",
        "\n",
        "    @classmethod\n",
        "    def calculate_average_salary(cls, employee_list):\n",
        "        total_salary = sum(employee.salary for employee in employee_list)\n",
        "        if cls.employee_count>0:\n",
        "          return total_salary / cls.employee_count\n",
        "        else:\n",
        "          return 0\n",
        "\n",
        "class FulltimeEmployee(Employee):\n",
        "    def __init__(self, name, family, salary, department):\n",
        "        super().__init__(name, family, salary, department)\n",
        "\n",
        "\n",
        "employees = [\n",
        "    Employee(\"Alice\", \"Smith\", 70000, \"Engineering\"),\n",
        "    FulltimeEmployee(\"Bob\", \"Johnson\", 80000, \"Marketing\"),\n",
        "    Employee(\"Charlie\", \"Brown\", 80000, \"Sales\")\n",
        "]\n",
        "\n",
        "average_salary = Employee.calculate_average_salary(employees)\n",
        "print(\"Average Salary:\", average_salary)\n"
      ]
    },
    {
      "cell_type": "code",
      "source": [
        "pip install numpy\n"
      ],
      "metadata": {
        "colab": {
          "base_uri": "https://localhost:8080/"
        },
        "id": "j9nFUtL2FaDo",
        "outputId": "7a55435f-e2da-420a-f6ce-734739e7a984"
      },
      "execution_count": 2,
      "outputs": [
        {
          "output_type": "stream",
          "name": "stdout",
          "text": [
            "Requirement already satisfied: numpy in /usr/local/lib/python3.10/dist-packages (1.23.5)\n"
          ]
        }
      ]
    },
    {
      "cell_type": "code",
      "source": [
        "import numpy as np\n",
        "\n",
        "random_vector = np.random.uniform(1, 20, 20)\n",
        "\n",
        "matrix = random_vector.reshape(4, 5)\n",
        "print(\"Original Matrix:\")\n",
        "print(matrix)\n",
        "\n",
        "max_indices = matrix.argmax(axis=1)\n",
        "\n",
        "matrix[np.arange(matrix.shape[0]), max_indices] = 0\n",
        "\n",
        "print(\"Modified Matrix:\")\n",
        "print(matrix)\n"
      ],
      "metadata": {
        "colab": {
          "base_uri": "https://localhost:8080/"
        },
        "id": "Y9S7Ei19FcoP",
        "outputId": "4cf64ce7-5e0a-4e0d-cf34-d6c501374b3f"
      },
      "execution_count": 3,
      "outputs": [
        {
          "output_type": "stream",
          "name": "stdout",
          "text": [
            "Original Matrix:\n",
            "[[ 6.10938624 13.50944185 19.22976065 17.1348619  19.58077813]\n",
            " [11.20317189  7.69489277  7.79185012  2.11832887  1.00043612]\n",
            " [ 9.30550196  1.44009174  4.90654579  9.56752652 18.14842501]\n",
            " [16.56261438 17.08687366  6.23283737 17.05049358 10.64944069]]\n",
            "Modified Matrix:\n",
            "[[ 6.10938624 13.50944185 19.22976065 17.1348619   0.        ]\n",
            " [ 0.          7.69489277  7.79185012  2.11832887  1.00043612]\n",
            " [ 9.30550196  1.44009174  4.90654579  9.56752652  0.        ]\n",
            " [16.56261438  0.          6.23283737 17.05049358 10.64944069]]\n"
          ]
        }
      ]
    }
  ]
}