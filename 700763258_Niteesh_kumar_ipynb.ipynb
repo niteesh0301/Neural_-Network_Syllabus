{
  "nbformat": 4,
  "nbformat_minor": 0,
  "metadata": {
    "colab": {
      "provenance": []
    },
    "kernelspec": {
      "name": "python3",
      "display_name": "Python 3"
    },
    "language_info": {
      "name": "python"
    }
  },
  "cells": [
    {
      "cell_type": "code",
      "execution_count": 3,
      "metadata": {
        "colab": {
          "base_uri": "https://localhost:8080/"
        },
        "id": "3DTfhEdMTA8I",
        "outputId": "27df27d8-31cb-4431-a771-9b05ef5f518a"
      },
      "outputs": [
        {
          "output_type": "stream",
          "name": "stdout",
          "text": [
            "Enter a string python\n",
            "htyp\n"
          ]
        }
      ],
      "source": [
        "string = input('Enter a string ')\n",
        "string = string[:-2]\n",
        "print(string[::-1])"
      ]
    },
    {
      "cell_type": "code",
      "source": [
        "num1 = int(input(\"Enter first numbers \"))\n",
        "num2 = int(input(\"Enter second numbers \"))\n",
        "\n",
        "add = num1+num2\n",
        "sub = num1-num2\n",
        "mul = num1*num2\n",
        "div = num1/num2\n",
        "\n",
        "print(f\"Addition of 2 numbers is {add} \\nSubtraction of 2 numbers is {sub} \\nmultiplication of 2 numbers is {mul} \\nDivison of 2 numbers is {div}\")\n"
      ],
      "metadata": {
        "colab": {
          "base_uri": "https://localhost:8080/"
        },
        "id": "_kAcc1J2Tbaz",
        "outputId": "c24821fb-9b84-48c8-8401-763317595cf3"
      },
      "execution_count": null,
      "outputs": [
        {
          "output_type": "stream",
          "name": "stdout",
          "text": [
            "Enter first numbers 8\n",
            "Enter second numbers 4\n",
            "Addition of 2 numbers is 12 \n",
            "Subtraction of 2 numbers is 4 \n",
            "multiplication of 2 numbers is 32 \n",
            "Divison of 2 numbers is 2.0\n"
          ]
        }
      ]
    },
    {
      "cell_type": "code",
      "source": [
        "sentence = input('Enter a sentence: ')\n",
        "words = sentence.split()\n",
        "for i in range(len(words)):\n",
        "  if words[i] == 'python':\n",
        "    words[i] = 'pythons'\n",
        "print(' '.join(words))\n"
      ],
      "metadata": {
        "colab": {
          "base_uri": "https://localhost:8080/"
        },
        "id": "1VMX-knPVAck",
        "outputId": "9157d9d5-5bf0-4ecd-9ad2-4641383c7e7b"
      },
      "execution_count": 1,
      "outputs": [
        {
          "output_type": "stream",
          "name": "stdout",
          "text": [
            "Enter a sentence: python \n",
            "pythons\n"
          ]
        }
      ]
    },
    {
      "cell_type": "code",
      "source": [
        "grade = int(input(\"Enter the grade between 0 and 100: \"))\n",
        "if grade>100 or grade<0:\n",
        "  print('Error! enter grade between 0 and 100')\n",
        "elif 100>=grade>=90:\n",
        "  print(\"Grade is A\")\n",
        "elif 89>=grade>=80:\n",
        "  print(\"Grade is B\")\n",
        "elif 79>=grade>=70:\n",
        "  print(\"Grade is C\")\n",
        "elif 69>=grade>=60:\n",
        "  print(\"Grade is D\")\n",
        "else:\n",
        "  print('Grade is F')\n",
        "\n"
      ],
      "metadata": {
        "colab": {
          "base_uri": "https://localhost:8080/"
        },
        "id": "V7yiw-bpWMRJ",
        "outputId": "da232429-c1a1-4da1-d277-b581fa259937"
      },
      "execution_count": null,
      "outputs": [
        {
          "output_type": "stream",
          "name": "stdout",
          "text": [
            "Enter the grade between 0 and 100: 34\n",
            "Grade is F\n"
          ]
        }
      ]
    }
  ]
}