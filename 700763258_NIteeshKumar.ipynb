{
 "cells": [
  {
   "cell_type": "code",
   "execution_count": 2,
   "metadata": {
    "colab": {
     "base_uri": "https://localhost:8080/"
    },
    "id": "5d0jWDNGrCrD",
    "outputId": "0621a10e-2310-45de-972e-99257d009b38"
   },
   "outputs": [
    {
     "name": "stdout",
     "output_type": "stream",
     "text": [
      "Enter firstname: NiteeshKumar\n",
      "Enter lastname: Pondugula\n",
      "Fullname is: NiteeshKumarPondugula\n",
      "Alternate string: NtehuaPnuua\n"
     ]
    }
   ],
   "source": [
    "def fullname(firstname,lastname):\n",
    "  fullname=firstname+lastname\n",
    "  return fullname\n",
    "\n",
    "\n",
    "def string_alternative(result):\n",
    "  return result[::2]\n",
    "\n",
    "if __name__ == '__main__':\n",
    "  firstname=input('Enter firstname: ')\n",
    "  lastname=input('Enter lastname: ')\n",
    "  result = fullname(firstname, lastname)\n",
    "  print(f'Fullname is: {result}')\n",
    "  print(f'Alternate string: {string_alternative(result)}')\n",
    "\n"
   ]
  },
  {
   "cell_type": "code",
   "execution_count": 1,
   "metadata": {
    "colab": {
     "base_uri": "https://localhost:8080/"
    },
    "id": "E2R-ULYlzg8f",
    "outputId": "c0b69149-600e-48d9-99b0-ebea24ad4b92"
   },
   "outputs": [
    {
     "name": "stdout",
     "output_type": "stream",
     "text": [
      "['Python course']\n",
      "Counter({'Python': 1, 'course': 1})\n",
      "['Python course', 'Deep learning course']\n",
      "Counter({'course': 2, 'Python': 1, 'Deep': 1, 'learning': 1})\n",
      "Python course\n",
      "Deep learning course\n",
      "\n",
      "Word_Count:\n",
      "Python: 1\n",
      "course: 2\n",
      "Deep: 1\n",
      "learning: 1\n"
     ]
    }
   ],
   "source": [
    "from collections import Counter\n",
    "import re\n",
    "\n",
    "def count_words_in_line(line):\n",
    "    words = re.findall(r'\\b\\w+\\b', line)\n",
    "    return words\n",
    "\n",
    "def main():\n",
    "    input_file_path = \"/content/input.txt\"\n",
    "    output_file_path = \"/content/output.txt\"\n",
    "\n",
    "    try:\n",
    "        with open(input_file_path, 'r') as input_file:\n",
    "            with open(output_file_path, 'w') as output_file:\n",
    "                original_lines = []\n",
    "                word_count = Counter()\n",
    "\n",
    "                for line_number, line in enumerate(input_file, start=1):\n",
    "                    original_lines.append(line.strip())\n",
    "\n",
    "                    words = count_words_in_line(line)\n",
    "                    word_count.update(words)\n",
    "\n",
    "\n",
    "                # Print original lines\n",
    "                for line in original_lines:\n",
    "                    print(line)\n",
    "\n",
    "                # Print word count\n",
    "                print(\"\\nWord_Count:\")\n",
    "                for word, count in word_count.items():\n",
    "                    print(f\"{word}: {count}\")\n",
    "\n",
    "                # Write output to the file\n",
    "                output_file.write('\\n'.join(original_lines) + '\\n\\nWord_Count:\\n')\n",
    "                for word, count in word_count.items():\n",
    "                    output_file.write(f\"{word}: {count}\\n\")\n",
    "\n",
    "    except FileNotFoundError:\n",
    "        print(f\"Error: File '{input_file_path}' not found.\")\n",
    "\n",
    "if __name__ == \"__main__\":\n",
    "    main()\n"
   ]
  },
  {
   "cell_type": "code",
   "execution_count": 3,
   "metadata": {
    "colab": {
     "base_uri": "https://localhost:8080/"
    },
    "id": "p8MbuyylsTj9",
    "outputId": "bac5c6a0-2cc6-45a5-9216-2d658d17513c"
   },
   "outputs": [
    {
     "name": "stdout",
     "output_type": "stream",
     "text": [
      "Enter number of element in list: 6\n",
      "enter 0 element: 1\n",
      "enter 1 element: 2\n",
      "enter 2 element: 3\n",
      "enter 3 element: 4\n",
      "enter 4 element: 5\n",
      "enter 5 element: 6\n",
      "[2.54, 5.08, 7.62, 10.16, 12.7, 15.24]\n",
      "[2.54, 5.08, 7.62, 10.16, 12.7, 15.24]\n"
     ]
    }
   ],
   "source": [
    "n = int(input(\"Enter number of element in list: \"))\n",
    "height_inches=[]\n",
    "height_cm = []\n",
    "for i in range(n):\n",
    "  element = int(input(f\"enter {i} element: \"))\n",
    "  height_inches.append(element)\n",
    "\n",
    "for i in height_inches:\n",
    "  height_cm.append(i*2.54)\n",
    "\n",
    "\n",
    "list_comprehension_output = [i*2.54 for i in height_inches]\n",
    "print(height_cm)\n",
    "print(list_comprehension_output)\n"
   ]
  }
 ],
 "metadata": {
  "colab": {
   "provenance": []
  },
  "kernelspec": {
   "display_name": "Python 3 (ipykernel)",
   "language": "python",
   "name": "python3"
  },
  "language_info": {
   "codemirror_mode": {
    "name": "ipython",
    "version": 3
   },
   "file_extension": ".py",
   "mimetype": "text/x-python",
   "name": "python",
   "nbconvert_exporter": "python",
   "pygments_lexer": "ipython3",
   "version": "3.11.4"
  }
 },
 "nbformat": 4,
 "nbformat_minor": 1
}
